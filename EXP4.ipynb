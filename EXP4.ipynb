{
 "cells": [
  {
   "cell_type": "code",
   "execution_count": 31,
   "metadata": {},
   "outputs": [],
   "source": [
    "\n",
    "from contextlib import contextmanager\n",
    "\n",
    "@contextmanager\n",
    "def genericFileFunction (filename, method):\n",
    "    file = open (filename, method)\n",
    "    yield file\n",
    "    file.close ()\n",
    "\n",
    "if __name__ == '__main__':\n",
    "    with genericFileFunction ('run.txt','w') as f:\n",
    "      f.write('hello world')\n",
    "    # Remove the pass and call the function to perform write.\n",
    "    # Read the file that was created while writing.\n",
    "    # Make the changes in the file by appending some material.\n",
    "    # Again read the same file.\n",
    "\n",
    "    '''\n",
    "    Print all the output of the function.\n",
    "    For better representation, please use jupyter.\n",
    "    Will also aid in easy maintanence of files for submissions.\n",
    "    '''"
   ]
  },
  {
   "cell_type": "code",
   "execution_count": 27,
   "metadata": {},
   "outputs": [
    {
     "name": "stdout",
     "output_type": "stream",
     "text": [
      "hello world\n"
     ]
    }
   ],
   "source": [
    "from contextlib import contextmanager\n",
    "\n",
    "@contextmanager\n",
    "def genericFileFunction (filename, method):\n",
    "    file = open (filename, method)\n",
    "    yield file\n",
    "    file.close ()\n",
    "\n",
    "if __name__ == '__main__':\n",
    "    with genericFileFunction ('run.txt','r') as f:\n",
    "      print(f.read())\n",
    "    # Remove the pass and call the function to perform write.\n",
    "    # Read the file that was created while writing.\n",
    "    # Make the changes in the file by appending some material.\n",
    "    # Again read the same file.\n",
    "\n",
    "    '''\n",
    "    Print all the output of the function.\n",
    "    For better representation, please use jupyter.\n",
    "    Will also aid in easy maintanence of files for submissions.\n",
    "    '''"
   ]
  },
  {
   "cell_type": "code",
   "execution_count": null,
   "metadata": {},
   "outputs": [],
   "source": []
  },
  {
   "cell_type": "code",
   "execution_count": 28,
   "metadata": {},
   "outputs": [],
   "source": [
    "\n",
    "from contextlib import contextmanager\n",
    "\n",
    "@contextmanager\n",
    "def genericFileFunction (filename, method):\n",
    "    file = open (filename, method)\n",
    "    yield file\n",
    "    file.close ()\n",
    "\n",
    "if __name__ == '__main__':\n",
    "    with genericFileFunction ('run.txt','a') as f:\n",
    "      f.write('hello world')\n",
    "    # Remove the pass and call the function to perform write.\n",
    "    # Read the file that was created while writing.\n",
    "    # Make the changes in the file by appending some material.\n",
    "    # Again read the same file.\n",
    "\n",
    "    '''\n",
    "    Print all the output of the function.\n",
    "    For better representation, please use jupyter.\n",
    "    Will also aid in easy maintanence of files for submissions.\n",
    "    '''"
   ]
  },
  {
   "cell_type": "code",
   "execution_count": 29,
   "metadata": {},
   "outputs": [
    {
     "name": "stdout",
     "output_type": "stream",
     "text": [
      "hello worldhello world\n"
     ]
    }
   ],
   "source": [
    "from contextlib import contextmanager\n",
    "\n",
    "@contextmanager\n",
    "def genericFileFunction (filename, method):\n",
    "    file = open (filename, method)\n",
    "    yield file\n",
    "    file.close ()\n",
    "\n",
    "if __name__ == '__main__':\n",
    "    with genericFileFunction ('run.txt','r') as f:\n",
    "      print(f.read())\n",
    "    # Remove the pass and call the function to perform write.\n",
    "    # Read the file that was created while writing.\n",
    "    # Make the changes in the file by appending some material.\n",
    "    # Again read the same file.\n",
    "\n",
    "    '''\n",
    "    Print all the output of the function.\n",
    "    For better representation, please use jupyter.\n",
    "    Will also aid in easy maintanence of files for submissions.\n",
    "    '''"
   ]
  }
 ],
 "metadata": {
  "kernelspec": {
   "display_name": "Python 3",
   "language": "python",
   "name": "python3"
  },
  "language_info": {
   "codemirror_mode": {
    "name": "ipython",
    "version": 3
   },
   "file_extension": ".py",
   "mimetype": "text/x-python",
   "name": "python",
   "nbconvert_exporter": "python",
   "pygments_lexer": "ipython3",
   "version": "3.12.2"
  }
 },
 "nbformat": 4,
 "nbformat_minor": 2
}
