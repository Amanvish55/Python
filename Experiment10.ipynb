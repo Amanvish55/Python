{
  "cells": [
    {
      "cell_type": "markdown",
      "metadata": {},
      "source": [
        "### Aman Vishwakarma\n",
        "    SE3-55"
      ]
    },
    {
      "cell_type": "code",
      "execution_count": 1,
      "metadata": {
        "id": "lVSN8PpFSOfF"
      },
      "outputs": [],
      "source": [
        "import numpy as np"
      ]
    },
    {
      "cell_type": "code",
      "execution_count": 12,
      "metadata": {
        "id": "7k5S24qLTiSk"
      },
      "outputs": [],
      "source": [
        "import math"
      ]
    },
    {
      "cell_type": "code",
      "execution_count": 2,
      "metadata": {
        "colab": {
          "base_uri": "https://localhost:8080/"
        },
        "id": "gOEWfcXISWBs",
        "outputId": "75a474e7-083d-403c-e202-e0dde3738b05"
      },
      "outputs": [
        {
          "name": "stdout",
          "output_type": "stream",
          "text": [
            "Pi: 3.141592653589793\n",
            "Euler's Number: 2.718281828459045\n"
          ]
        }
      ],
      "source": [
        "print(\"Pi:\", np.pi)\n",
        "print(\"Euler's Number:\", np.e)"
      ]
    },
    {
      "cell_type": "code",
      "execution_count": 3,
      "metadata": {
        "colab": {
          "base_uri": "https://localhost:8080/"
        },
        "id": "7wydzNdpSZ5T",
        "outputId": "dc978e7d-7dba-4199-afc9-a331ae888f57"
      },
      "outputs": [
        {
          "name": "stdout",
          "output_type": "stream",
          "text": [
            "Sin(45 degrees): 0.7071067811865475\n",
            "Cos(45 degrees): 0.7071067811865476\n",
            "Tan(45 degrees): 0.9999999999999999\n"
          ]
        }
      ],
      "source": [
        "angle_rad = np.deg2rad(45)  # Convert 45 degrees to radians\n",
        "print(\"Sin(45 degrees):\", np.sin(angle_rad))\n",
        "print(\"Cos(45 degrees):\", np.cos(angle_rad))\n",
        "print(\"Tan(45 degrees):\", np.tan(angle_rad))"
      ]
    },
    {
      "cell_type": "code",
      "execution_count": 4,
      "metadata": {
        "colab": {
          "base_uri": "https://localhost:8080/"
        },
        "id": "Cl5oiRIoSgQU",
        "outputId": "9e382e70-bdbe-472c-a497-8f56b41f6809"
      },
      "outputs": [
        {
          "name": "stdout",
          "output_type": "stream",
          "text": [
            "Exponential of 2: 7.38905609893065\n",
            "Natural Log of 10: 2.302585092994046\n",
            "Log base 10 of 100: 2.0\n",
            "Log base 2 of 8: 3.0\n"
          ]
        }
      ],
      "source": [
        "print(\"Exponential of 2:\", np.exp(2))\n",
        "print(\"Natural Log of 10:\", np.log(10))\n",
        "print(\"Log base 10 of 100:\", np.log10(100))\n",
        "print(\"Log base 2 of 8:\", np.log2(8))\n"
      ]
    },
    {
      "cell_type": "code",
      "execution_count": 5,
      "metadata": {
        "colab": {
          "base_uri": "https://localhost:8080/"
        },
        "id": "LRbPpzVRSlTM",
        "outputId": "96bcf78b-1b8c-47fa-ed60-f56ffbd2c69b"
      },
      "outputs": [
        {
          "name": "stdout",
          "output_type": "stream",
          "text": [
            "Ceil of 4.3: 5.0\n",
            "Floor of 4.7: 4.0\n",
            "Round 4.5: 4.0\n"
          ]
        }
      ],
      "source": [
        "print(\"Ceil of 4.3:\", np.ceil(4.3))\n",
        "print(\"Floor of 4.7:\", np.floor(4.7))\n",
        "print(\"Round 4.5:\", np.round(4.5))\n"
      ]
    },
    {
      "cell_type": "code",
      "execution_count": 6,
      "metadata": {
        "colab": {
          "base_uri": "https://localhost:8080/"
        },
        "id": "ZNAAesNiSp4j",
        "outputId": "08afee1b-d356-4b24-873d-352509bb6a17"
      },
      "outputs": [
        {
          "name": "stdout",
          "output_type": "stream",
          "text": [
            "Random Number [0,1]: 0.8039664133907026\n",
            "Random Integer [1,10]: 6\n"
          ]
        }
      ],
      "source": [
        "print(\"Random Number [0,1]:\", np.random.rand())\n",
        "print(\"Random Integer [1,10]:\", np.random.randint(1, 10))"
      ]
    },
    {
      "cell_type": "code",
      "execution_count": 7,
      "metadata": {
        "colab": {
          "base_uri": "https://localhost:8080/"
        },
        "id": "c1q3y_flSvPc",
        "outputId": "ebf3184b-80fc-41ff-fbaf-76137e458575"
      },
      "outputs": [
        {
          "name": "stdout",
          "output_type": "stream",
          "text": [
            "Mean: 5.0\n",
            "Median: 5.0\n",
            "Standard Deviation: 2.581988897471611\n",
            "Variance: 6.666666666666667\n"
          ]
        }
      ],
      "source": [
        "data = [1, 2, 3, 4, 5, 6, 7, 8, 9]\n",
        "print(\"Mean:\", np.mean(data))\n",
        "print(\"Median:\", np.median(data))\n",
        "print(\"Standard Deviation:\", np.std(data))\n",
        "print(\"Variance:\", np.var(data))"
      ]
    },
    {
      "cell_type": "code",
      "execution_count": 8,
      "metadata": {
        "colab": {
          "base_uri": "https://localhost:8080/"
        },
        "id": "kn3HMHPjSzG0",
        "outputId": "5bd7914d-3a2d-4cb5-cc6b-59b51d5940c4"
      },
      "outputs": [
        {
          "name": "stdout",
          "output_type": "stream",
          "text": [
            "GCD of 24 and 36: 12\n",
            "LCM of 6 and 8: 24\n"
          ]
        }
      ],
      "source": [
        "print(\"GCD of 24 and 36:\", np.gcd(24, 36))\n",
        "print(\"LCM of 6 and 8:\", np.lcm(6, 8))\n"
      ]
    },
    {
      "cell_type": "code",
      "execution_count": 13,
      "metadata": {
        "colab": {
          "base_uri": "https://localhost:8080/"
        },
        "id": "uB6XQnWBS3RD",
        "outputId": "adad71fd-a344-4d33-8f82-2d4fb2922ad1"
      },
      "outputs": [
        {
          "name": "stdout",
          "output_type": "stream",
          "text": [
            "Factorial of 5: 120\n",
            "2 to the power of 3: 8\n"
          ]
        }
      ],
      "source": [
        "\n",
        "\n",
        "print(\"Factorial of 5:\", math.factorial(5))  # Use math.factorial\n",
        "print(\"2 to the power of 3:\", np.power(2, 3))  # np.power is correct\n"
      ]
    }
  ],
  "metadata": {
    "colab": {
      "provenance": []
    },
    "kernelspec": {
      "display_name": "Python 3",
      "name": "python3"
    },
    "language_info": {
      "name": "python"
    }
  },
  "nbformat": 4,
  "nbformat_minor": 0
}
