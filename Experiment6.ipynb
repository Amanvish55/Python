{
 "cells": [
  {
   "cell_type": "markdown",
   "metadata": {},
   "source": [
    "### Aman Vishwakarma\n",
    "    SE3-55"
   ]
  },
  {
   "cell_type": "code",
   "execution_count": 1,
   "metadata": {},
   "outputs": [],
   "source": [
    "import tkinter as tk\n",
    "from tkinter import messagebox"
   ]
  },
  {
   "cell_type": "code",
   "execution_count": 2,
   "metadata": {},
   "outputs": [],
   "source": [
    "def submit():\n",
    "    name = name_entry.get()\n",
    "    gender = gender_var.get()\n",
    "    skills = []\n",
    "    if skill1_var.get():\n",
    "        skills.append(\"Python\")\n",
    "    if skill2_var.get():\n",
    "        skills.append(\"Java\")\n",
    "    if skill3_var.get():\n",
    "        skills.append(\"C++\")\n",
    "    \n",
    "    skill_text = \", \".join(skills) if skills else \"None\"\n",
    "    \n",
    "    info = f\"Name: {name}\\nGender: {gender}\\nSkills: {skill_text}\"\n",
    "    messagebox.showinfo(\"Information Submitted\", info)"
   ]
  },
  {
   "cell_type": "code",
   "execution_count": 3,
   "metadata": {},
   "outputs": [
    {
     "data": {
      "text/plain": [
       "''"
      ]
     },
     "execution_count": 3,
     "metadata": {},
     "output_type": "execute_result"
    }
   ],
   "source": [
    "def custom_dialog():\n",
    "    messagebox.showwarning(\"Custom Dialog\", \"This is a custom warning dialog!\")\n",
    "\n",
    "# Main window\n",
    "root = tk.Tk()\n",
    "root.title(\"User Information Form\")\n",
    "root.geometry(\"400x400\")"
   ]
  },
  {
   "cell_type": "code",
   "execution_count": 4,
   "metadata": {},
   "outputs": [],
   "source": [
    "tk.Label(root, text=\"User Information Form\", font=(\"Arial\", 18)).pack(pady=10)"
   ]
  },
  {
   "cell_type": "code",
   "execution_count": 5,
   "metadata": {},
   "outputs": [],
   "source": [
    "tk.Label(root, text=\"Enter your name:\").pack(pady=5)\n",
    "name_entry = tk.Entry(root, width=30)\n",
    "name_entry.pack(pady=5)"
   ]
  },
  {
   "cell_type": "code",
   "execution_count": 6,
   "metadata": {},
   "outputs": [],
   "source": [
    "tk.Label(root, text=\"Select Gender:\").pack(pady=5)\n",
    "gender_var = tk.StringVar(value=\"None\")\n",
    "tk.Radiobutton(root, text=\"Male\", variable=gender_var, value=\"Male\").pack()\n",
    "tk.Radiobutton(root, text=\"Female\", variable=gender_var, value=\"Female\").pack()"
   ]
  },
  {
   "cell_type": "code",
   "execution_count": 7,
   "metadata": {},
   "outputs": [],
   "source": [
    "tk.Label(root, text=\"Select Skills:\").pack(pady=5)\n",
    "skill1_var = tk.BooleanVar()\n",
    "skill2_var = tk.BooleanVar()\n",
    "skill3_var = tk.BooleanVar()\n",
    "\n",
    "tk.Checkbutton(root, text=\"Python\", variable=skill1_var).pack()\n",
    "tk.Checkbutton(root, text=\"Java\", variable=skill2_var).pack()\n",
    "tk.Checkbutton(root, text=\"C++\", variable=skill3_var).pack()"
   ]
  },
  {
   "cell_type": "code",
   "execution_count": 8,
   "metadata": {},
   "outputs": [],
   "source": [
    "tk.Button(root, text=\"Submit\", command=submit).pack(pady=10)"
   ]
  },
  {
   "cell_type": "code",
   "execution_count": 9,
   "metadata": {},
   "outputs": [],
   "source": [
    "tk.Button(root, text=\"Show Custom Dialog\", command=custom_dialog).pack(pady=10)"
   ]
  },
  {
   "cell_type": "code",
   "execution_count": 10,
   "metadata": {},
   "outputs": [],
   "source": [
    "root.mainloop()"
   ]
  }
 ],
 "metadata": {
  "kernelspec": {
   "display_name": "Python 3",
   "language": "python",
   "name": "python3"
  },
  "language_info": {
   "codemirror_mode": {
    "name": "ipython",
    "version": 3
   },
   "file_extension": ".py",
   "mimetype": "text/x-python",
   "name": "python",
   "nbconvert_exporter": "python",
   "pygments_lexer": "ipython3",
   "version": "3.12.2"
  }
 },
 "nbformat": 4,
 "nbformat_minor": 2
}
