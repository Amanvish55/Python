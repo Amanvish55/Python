{
  "cells": [
    {
      "cell_type": "markdown",
      "metadata": {},
      "source": [
        "### Aman Vishwakarma\n",
        "    SE3-55"
      ]
    },
    {
      "cell_type": "code",
      "execution_count": 1,
      "metadata": {
        "colab": {
          "base_uri": "https://localhost:8080/"
        },
        "id": "0MEv1wkXHGcL",
        "outputId": "7087e4b9-7fcb-4b46-9fb5-1c341a0ef868"
      },
      "outputs": [
        {
          "name": "stdout",
          "output_type": "stream",
          "text": [
            "Enter the equation : (1+(2*3)+((8)/4))+2\n",
            "3\n"
          ]
        }
      ],
      "source": [
        "class StackDepth:\n",
        "    def maximumDepth (self, stringInput : str) -> int :\n",
        "        stack = []\n",
        "        count = 0\n",
        "        count_list =[]\n",
        "        for char in stringInput:\n",
        "            if (char == '(') or (char == ')') :\n",
        "                stack.append(char)\n",
        "        for x in stack :\n",
        "            if x=='(':\n",
        "                count+=1\n",
        "            count_list.append(count)\n",
        "            if x == ')':\n",
        "                count-=1\n",
        "        return max(count_list)\n",
        "\n",
        "eqInput = input(\"Enter the equation : \")\n",
        "print(StackDepth().maximumDepth(eqInput))"
      ]
    },
    {
      "cell_type": "code",
      "execution_count": 2,
      "metadata": {
        "colab": {
          "base_uri": "https://localhost:8080/"
        },
        "id": "wntxx4otHjBA",
        "outputId": "c6072ec3-7aac-4460-c3a4-564b4786d63b"
      },
      "outputs": [
        {
          "name": "stdout",
          "output_type": "stream",
          "text": [
            "Enter the equation : (1)+((2))+(((4)))\n",
            "3\n"
          ]
        }
      ],
      "source": [
        "class StackDepth:\n",
        "    def maximumDepth (self, stringInput : str) -> int :\n",
        "        stack = []\n",
        "        count = 0\n",
        "        count_list =[]\n",
        "        for char in stringInput:\n",
        "            if (char == '(') or (char == ')') :\n",
        "                stack.append(char)\n",
        "        for x in stack :\n",
        "            if x=='(':\n",
        "                count+=1\n",
        "            count_list.append(count)\n",
        "            if x == ')':\n",
        "                count-=1\n",
        "        return max(count_list)\n",
        "\n",
        "eqInput = input(\"Enter the equation : \")\n",
        "print(StackDepth().maximumDepth(eqInput))"
      ]
    },
    {
      "cell_type": "code",
      "execution_count": null,
      "metadata": {
        "colab": {
          "base_uri": "https://localhost:8080/"
        },
        "id": "RlUaGx-aKEIO",
        "outputId": "2c5c78cd-f4f7-42a6-fb31-3f797dbe60ce"
      },
      "outputs": [
        {
          "name": "stdout",
          "output_type": "stream",
          "text": [
            "Enter the equation : ()(())((()()))\n",
            "3\n"
          ]
        }
      ],
      "source": [
        "class StackDepth:\n",
        "    def maximumDepth (self, stringInput : str) -> int :\n",
        "        stack = []\n",
        "        count = 0\n",
        "        count_list =[]\n",
        "        for char in stringInput:\n",
        "            if (char == '(') or (char == ')') :\n",
        "                stack.append(char)\n",
        "        for x in stack :\n",
        "            if x=='(':\n",
        "                count+=1\n",
        "            count_list.append(count)\n",
        "            if x == ')':\n",
        "                count-=1\n",
        "        return max(count_list)\n",
        "\n",
        "eqInput = input(\"Enter the equation : \")\n",
        "print(StackDepth().maximumDepth(eqInput))"
      ]
    }
  ],
  "metadata": {
    "colab": {
      "provenance": []
    },
    "kernelspec": {
      "display_name": "Python 3",
      "name": "python3"
    },
    "language_info": {
      "name": "python"
    }
  },
  "nbformat": 4,
  "nbformat_minor": 0
}
