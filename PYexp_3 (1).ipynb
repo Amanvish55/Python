{
  "cells": [
    {
      "cell_type": "markdown",
      "metadata": {},
      "source": [
        "### Aman Vishwakarma\n",
        "    SE3-55"
      ]
    },
    {
      "cell_type": "code",
      "execution_count": 1,
      "metadata": {
        "colab": {
          "base_uri": "https://localhost:8080/"
        },
        "id": "gCEcIbVrAnmP",
        "outputId": "b2dc9090-f0a1-4c1c-cb03-379b5e2cb2b0"
      },
      "outputs": [
        {
          "name": "stdout",
          "output_type": "stream",
          "text": [
            "Fullstack\n"
          ]
        }
      ],
      "source": [
        "class Employee:\n",
        "    def __init__ (\n",
        "            self,\n",
        "            designation : str = 'Developer',\n",
        "            frontend : bool = False,\n",
        "            backend : bool = False\n",
        "    ):\n",
        "        self.designation = designation\n",
        "        self.frontend = frontend\n",
        "        self.backend = backend\n",
        "\n",
        "    def __repr__ (self):\n",
        "        return '{}'.format (self.designation, self.frontend, self.backend)\n",
        "\n",
        "    def value(self):\n",
        "       if self.frontend and self.backend:\n",
        "           return 'Fullstack'\n",
        "       elif self.frontend:\n",
        "           return 'Frontend'\n",
        "       elif self.backend:\n",
        "           return 'Backend'\n",
        "\n",
        "if __name__ == '__main__':\n",
        "\n",
        " firstEmployee = Employee (\"Raju\", True,True)\n",
        " print(firstEmployee.value())\n"
      ]
    }
  ],
  "metadata": {
    "colab": {
      "provenance": []
    },
    "kernelspec": {
      "display_name": "Python 3",
      "language": "python",
      "name": "python3"
    },
    "language_info": {
      "codemirror_mode": {
        "name": "ipython",
        "version": 3
      },
      "file_extension": ".py",
      "mimetype": "text/x-python",
      "name": "python",
      "nbconvert_exporter": "python",
      "pygments_lexer": "ipython3",
      "version": "3.11.9"
    }
  },
  "nbformat": 4,
  "nbformat_minor": 0
}
